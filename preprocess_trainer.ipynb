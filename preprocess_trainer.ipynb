{
 "cells": [
  {
   "cell_type": "code",
   "execution_count": null,
   "id": "082204f1",
   "metadata": {},
   "outputs": [],
   "source": [
    "import pandas as pd\n",
    "import os\n",
    "from dotenv import load_dotenv\n",
    "from sqlalchemy import create_engine, Table, Column, String, MetaData\n",
    "from sqlalchemy.orm import sessionmaker\n",
    "\n",
    "load_dotenv()\n",
    "\n",
    "# === CONFIGURATION ===\n",
    "USERNAME = os.getenv(\"USERNAME\")\n",
    "PASSWORD = os.getenv(\"PASSWORD\")\n",
    "HOST = os.getenv(\"HOST\")\n",
    "DBNAME = os.getenv(\"DBNAME\")\n",
    "\n",
    "df = pd.read_csv('trainer.csv', on_bad_lines='skip')\n",
    "df"
   ]
  },
  {
   "cell_type": "code",
   "execution_count": null,
   "id": "0193525c",
   "metadata": {},
   "outputs": [],
   "source": [
    "\n",
    "# === SQLAlchemy Engine ===\n",
    "# 2. Create engine and session\n",
    "engine = create_engine(f\"mysql+pymysql://{USERNAME}:{PASSWORD}@{HOST}/{DBNAME}\", echo=True)\n",
    "Session = sessionmaker(bind=engine)\n",
    "session = Session()\n",
    "metadata = MetaData()"
   ]
  },
  {
   "cell_type": "code",
   "execution_count": null,
   "id": "59d3b4b8",
   "metadata": {},
   "outputs": [],
   "source": [
    "\n",
    "\n",
    "# === Optional: Define the table with metadata (if needed to auto-create) ===\n",
    "metadata = MetaData()\n",
    "\n",
    "# tb_course = Table('tb_course', metadata,\n",
    "#     Column('id_course', String(50), primary_key=True),\n",
    "#     Column('name', String(255)),\n",
    "#     Column('lecture_room', String(100)),      # Nullable\n",
    "#     Column('lecture_time', String(255)),\n",
    "#     Column('id_trainer', String(50))\n",
    "# )\n",
    "\n",
    "# # Uncomment below if table needs to be created automatically\n",
    "# # metadata.create_all(engine)\n",
    "\n",
    "# === Insert Data ===\n",
    "df.to_sql('tb_trainer', con=engine, if_exists='append', index=False)\n"
   ]
  },
  {
   "cell_type": "code",
   "execution_count": null,
   "id": "4dbd1010",
   "metadata": {},
   "outputs": [],
   "source": []
  }
 ],
 "metadata": {
  "kernelspec": {
   "display_name": "jupyter",
   "language": "python",
   "name": "python3"
  },
  "language_info": {
   "codemirror_mode": {
    "name": "ipython",
    "version": 3
   },
   "file_extension": ".py",
   "mimetype": "text/x-python",
   "name": "python",
   "nbconvert_exporter": "python",
   "pygments_lexer": "ipython3",
   "version": "3.11.11"
  }
 },
 "nbformat": 4,
 "nbformat_minor": 5
}
