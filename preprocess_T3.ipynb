{
 "cells": [
  {
   "cell_type": "code",
   "execution_count": null,
   "id": "056f90d0",
   "metadata": {},
   "outputs": [],
   "source": []
  },
  {
   "cell_type": "markdown",
   "id": "aa7ce3c9",
   "metadata": {},
   "source": [
    "# CSV"
   ]
  },
  {
   "cell_type": "code",
   "execution_count": null,
   "id": "59df38c2",
   "metadata": {},
   "outputs": [],
   "source": [
    "import pandas as pd\n",
    "def load_data(file_path, sheet_name):\n",
    "    \"\"\"\n",
    "    Load data from a CSV file and return a DataFrame.\n",
    "    \n",
    "    Parameters:\n",
    "    file_path (str): The path to the CSV file.\n",
    "    \n",
    "    Returns:\n",
    "    pd.DataFrame: The loaded data as a DataFrame.\n",
    "    \"\"\"\n",
    "    try:\n",
    "        data = pd.read_excel(file_path, sheet_name=sheet_name)\n",
    "        return data\n",
    "    except Exception as e:\n",
    "        print(f\"Error loading data: {e}\")\n",
    "        return None"
   ]
  },
  {
   "cell_type": "code",
   "execution_count": null,
   "id": "27f99722",
   "metadata": {},
   "outputs": [],
   "source": [
    "df=load_data('courseunitT3.xlsx', 'courseunitT3')\n",
    "df.head(10)"
   ]
  },
  {
   "cell_type": "code",
   "execution_count": null,
   "id": "45dc892f",
   "metadata": {},
   "outputs": [],
   "source": [
    "df.to_csv('courseunitT3.csv', index=False)\n",
    "\n",
    "def save_to_csv(data, file_path):\n",
    "    \"\"\"\n",
    "    Save a DataFrame to a CSV file.\n",
    "    \n",
    "    Parameters:\n",
    "    data (pd.DataFrame): The DataFrame to save.\n",
    "    file_path (str): The path where the CSV file will be saved.\n",
    "    \"\"\"\n",
    "    try:\n",
    "        data.to_csv(file_path, index=False)\n",
    "        print(f\"Data saved to {file_path}\")\n",
    "    except Exception as e:\n",
    "        print(f\"Error saving data: {e}\")\n",
    "\n",
    "save_to_csv(df, 'T3courseunit.csv')"
   ]
  },
  {
   "cell_type": "code",
   "execution_count": null,
   "id": "88f40fb2",
   "metadata": {},
   "outputs": [],
   "source": [
    "from sqlalchemy import create_engine\n",
    "\n",
    "import os\n",
    "from dotenv import load_dotenv\n",
    "from sqlalchemy import text\n",
    "\n",
    "load_dotenv()\n",
    "\n",
    "username = os.getenv('PG_USERNAME')\n",
    "password = os.getenv('PG_PASSWORD')\n",
    "host = os.getenv('PG_HOST')\n",
    "port = os.getenv('PG_PORT')\n",
    "database = os.getenv('PG_DBNAME')\n",
    "\n",
    "# Update the engine to use the actual credentials from environment variables\n",
    "engine = create_engine(f'postgresql://{username}:{password}@{host}:{port}/{database}')\n",
    "\n"
   ]
  },
  {
   "cell_type": "markdown",
   "id": "689a7b91",
   "metadata": {},
   "source": [
    "# unitname"
   ]
  },
  {
   "cell_type": "code",
   "execution_count": null,
   "id": "960c5f3d",
   "metadata": {},
   "outputs": [],
   "source": [
    "import pandas as pd\n",
    "def load_data(file_path, sheet_name):\n",
    "    \"\"\"\n",
    "    Load data from a CSV file and return a DataFrame.\n",
    "    \n",
    "    Parameters:\n",
    "    file_path (str): The path to the CSV file.\n",
    "    \n",
    "    Returns:\n",
    "    pd.DataFrame: The loaded data as a DataFrame.\n",
    "    \"\"\"\n",
    "    try:\n",
    "        data = pd.read_excel(file_path, sheet_name=sheet_name)\n",
    "        return data\n",
    "    except Exception as e:\n",
    "        print(f\"Error loading data: {e}\")\n",
    "        return None"
   ]
  },
  {
   "cell_type": "code",
   "execution_count": null,
   "id": "32e478b3",
   "metadata": {},
   "outputs": [],
   "source": [
    "df_unitname = load_data('courseunitT3.xlsx', 'unitname')\n",
    "if df_unitname is not None:\n",
    "    print(\"Data loaded successfully from unitname sheet.\")\n",
    "else:\n",
    "    print(\"Failed to load data from unitname sheet.\")\n",
    "\n",
    "df_unitname.to_csv('T3unitname.csv', index=False)"
   ]
  },
  {
   "cell_type": "code",
   "execution_count": null,
   "id": "a5122308",
   "metadata": {},
   "outputs": [],
   "source": [
    "df_unitname"
   ]
  },
  {
   "cell_type": "code",
   "execution_count": null,
   "id": "bd6eb099",
   "metadata": {},
   "outputs": [],
   "source": [
    "from sqlalchemy import create_engine\n",
    "\n",
    "import os\n",
    "from dotenv import load_dotenv\n",
    "from sqlalchemy import text\n",
    "\n",
    "load_dotenv()\n",
    "\n",
    "username = os.getenv('PG_USERNAME')\n",
    "password = os.getenv('PG_PASSWORD')\n",
    "host = os.getenv('PG_HOST')\n",
    "port = os.getenv('PG_PORT')\n",
    "database = os.getenv('PG_DBNAME')\n",
    "\n",
    "# Update the engine to use the actual credentials from environment variables\n",
    "engine = create_engine(f'postgresql://{username}:{password}@{host}:{port}/{database}')\n",
    "\n",
    "\n",
    "# # Create the T3 table if it does not exist\n",
    "# with engine.connect() as conn:\n",
    "#     conn.execute(text(\"\"\"DROP TABLE IF EXISTS \"T3_unitname\";\"\"\"))\n",
    "    \n",
    "\n",
    "# Drop the units table with CASCADE to remove dependent objects (e.g., foreign key constraints)\n",
    "with engine.connect() as conn:\n",
    "  conn.execute(text('DROP TABLE IF EXISTS units CASCADE;'))\n",
    "\n",
    "with engine.connect() as conn:\n",
    "    result = conn.execute(text('SELECT * FROM \"units\" LIMIT 5'))\n",
    "    for row in result:\n",
    "        print(row)\n",
    "for row in result:\n",
    "    print(row)\n",
    "\n",
    "\n",
    "# Create the units table\n",
    "with engine.connect() as conn:\n",
    "    conn.execute(text(\"\"\"CREATE TABLE IF NOT EXISTS T3units (\n",
    "                      \"id\" SERIAL PRIMARY KEY,\n",
    "                      \"unitname\" TEXT,\n",
    "                      \"unitcode\" TEXT\n",
    "                    );\"\"\"))\n",
    "    print(\"Table 'T3units' created successfully.\")\n",
    "\n",
    "\n",
    "# Use 'if_exists=\"append\"' to avoid dropping the table and breaking dependencies\n",
    "df_unitname.to_sql('T3units', engine, if_exists='replace', index=False)\n",
    "print(\"Data inserted into table T3units.\")"
   ]
  },
  {
   "cell_type": "code",
   "execution_count": null,
   "id": "9d31fdf3",
   "metadata": {},
   "outputs": [],
   "source": [
    "with engine.connect() as conn:\n",
    "    result = conn.execute(text('SELECT * FROM \"T3units\" LIMIT 5'))\n",
    "    for row in result:\n",
    "        print(row)\n",
    "for row in result:\n",
    "    print(row)"
   ]
  },
  {
   "cell_type": "code",
   "execution_count": null,
   "id": "8fb011e2",
   "metadata": {},
   "outputs": [],
   "source": []
  }
 ],
 "metadata": {
  "kernelspec": {
   "display_name": "jupyter",
   "language": "python",
   "name": "python3"
  },
  "language_info": {
   "codemirror_mode": {
    "name": "ipython",
    "version": 3
   },
   "file_extension": ".py",
   "mimetype": "text/x-python",
   "name": "python",
   "nbconvert_exporter": "python",
   "pygments_lexer": "ipython3",
   "version": "3.11.11"
  }
 },
 "nbformat": 4,
 "nbformat_minor": 5
}
