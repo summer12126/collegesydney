{
 "cells": [
  {
   "cell_type": "code",
   "execution_count": 2,
   "id": "082204f1",
   "metadata": {},
   "outputs": [
    {
     "name": "stdout",
     "output_type": "stream",
     "text": [
      "Data has been successfully written to GDMSDY.csv\n"
     ]
    }
   ],
   "source": [
    "import csv\n",
    "\n",
    "# Input and output file paths\n",
    "input_file = 'GDMSDY.txt'\n",
    "output_file = 'GDMSDY.csv'\n",
    "\n",
    "# Define the headers for the CSV file\n",
    "headers = ['course', 'college', 'ID', 'USI', 'DoB', 'age', 'mobile', 'email', \n",
    "           'postal_address', 'street_address', 'citizenship', 'passport', \n",
    "           'passport_expiry', 'agent']\n",
    "\n",
    "# Open the input file and read its content\n",
    "with open(input_file, 'r', encoding='utf-8') as f:\n",
    "    lines = f.read().splitlines()\n",
    "\n",
    "# Initialize variables to store extracted data\n",
    "rows = []\n",
    "current_row = {}\n",
    "\n",
    "# Process each line in the input file\n",
    "for line in lines:\n",
    "    if line.startswith('GDM,SDY'):\n",
    "        # Save the current row if it exists\n",
    "        if current_row:\n",
    "            rows.append(current_row)\n",
    "        # Start a new row\n",
    "        current_row = dict.fromkeys(headers, '')\n",
    "        parts = line.split(',')\n",
    "        current_row['course'] = parts[0]\n",
    "        current_row['college'] = parts[1]\n",
    "        current_row['ID'] = parts[2]\n",
    "    elif line.startswith('USI:'):\n",
    "        current_row['USI'] = line.split('\\t')[1]\n",
    "    elif line.startswith('Date of Birth:'):\n",
    "        current_row['DoB'] = line.split('\\t')[1]\n",
    "    elif line.startswith('Age:'):\n",
    "        current_row['age'] = line.split('\\t')[1]\n",
    "    elif line.startswith('Mobile Phone:'):\n",
    "        current_row['mobile'] = line.split('\\t')[1]\n",
    "    elif line.startswith('Email:'):\n",
    "        current_row['email'] = line.split('\\t')[1]\n",
    "    elif line.startswith('Postal Address:'):\n",
    "        current_row['postal_address'] = line.split('\\t')[1]\n",
    "    elif line.startswith('Street Address:'):\n",
    "        current_row['street_address'] = line.split('\\t')[1]\n",
    "    elif line.startswith('Citizenship:'):\n",
    "        current_row['citizenship'] = line.split('\\t')[1]\n",
    "    elif line.startswith('Passport Number:'):\n",
    "        current_row['passport'] = line.split('\\t')[1]\n",
    "    elif line.startswith('Passport Expiry Date:'):\n",
    "        current_row['passport_expiry'] = line.split('\\t')[1]\n",
    "    elif line.startswith('Agent:'):\n",
    "        current_row['agent'] = line.split('\\t')[1]\n",
    "\n",
    "# Append the last row\n",
    "if current_row:\n",
    "    rows.append(current_row)\n",
    "\n",
    "# Write the data to the CSV file\n",
    "with open(output_file, 'w', encoding='utf-8', newline='') as csvfile:\n",
    "    writer = csv.DictWriter(csvfile, fieldnames=headers)\n",
    "    writer.writeheader()\n",
    "    writer.writerows(rows)\n",
    "\n",
    "print(f\"Data has been successfully written to {output_file}\")"
   ]
  },
  {
   "cell_type": "code",
   "execution_count": null,
   "id": "59d3b4b8",
   "metadata": {},
   "outputs": [],
   "source": []
  }
 ],
 "metadata": {
  "kernelspec": {
   "display_name": "jupyter",
   "language": "python",
   "name": "python3"
  },
  "language_info": {
   "codemirror_mode": {
    "name": "ipython",
    "version": 3
   },
   "file_extension": ".py",
   "mimetype": "text/x-python",
   "name": "python",
   "nbconvert_exporter": "python",
   "pygments_lexer": "ipython3",
   "version": "3.11.11"
  }
 },
 "nbformat": 4,
 "nbformat_minor": 5
}
